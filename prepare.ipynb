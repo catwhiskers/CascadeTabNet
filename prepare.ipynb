{
 "cells": [
  {
   "cell_type": "markdown",
   "id": "e2dcdfe3",
   "metadata": {},
   "source": [
    "### Add Policies to the Execution Role \n",
    "* In this sample code, we are going to use several AWS services. Therefore we have to add policies to the notebook execution role. \n",
    "* Regarding to role and policy, please refer to documents [1](https://docs.aws.amazon.com/IAM/latest/UserGuide/id_roles.html) and [2](https://docs.aws.amazon.com/IAM/latest/UserGuide/access.html)\n",
    "\n"
   ]
  },
  {
   "cell_type": "code",
   "execution_count": null,
   "id": "b0ccfd60",
   "metadata": {},
   "outputs": [],
   "source": [
    "import boto3\n",
    "from sagemaker import get_execution_role\n",
    "\n",
    "role_name = get_execution_role().split('/')[-1]\n",
    "\n",
    "iam = boto3.client(\"iam\")\n",
    "\n",
    "print(role_name)\n",
    "policy_arns = [\n",
    "               \"arn:aws:iam::aws:policy/AmazonEC2ContainerRegistryFullAccess\",\n",
    "               \"arn:aws:iam::aws:policy/AmazonTextractFullAccess\"\n",
    "]\n",
    "\n",
    "for p in policy_arns: \n",
    "    iam.attach_role_policy(\n",
    "        RoleName = role_name,\n",
    "        PolicyArn = p\n",
    "    )\n",
    "\n"
   ]
  },
  {
   "cell_type": "markdown",
   "id": "3bac54bd",
   "metadata": {},
   "source": [
    "### Alternate Docker Storage Location "
   ]
  },
  {
   "cell_type": "markdown",
   "id": "82f3a718",
   "metadata": {},
   "source": [
    "* docker overlay directory usually will occupy large amount of disk space, change the location to EBS volume "
   ]
  },
  {
   "cell_type": "code",
   "execution_count": 3,
   "id": "8cd283c4",
   "metadata": {},
   "outputs": [
    {
     "name": "stdout",
     "output_type": "stream",
     "text": [
      "Overwriting daemon.json\n"
     ]
    }
   ],
   "source": [
    "%%writefile daemon.json\n",
    "{\n",
    "    \"runtimes\": {\n",
    "        \"nvidia\": {\n",
    "            \"path\": \"nvidia-container-runtime\",\n",
    "            \"runtimeArgs\": []\n",
    "        }\n",
    "    },\n",
    "    \"default-shm-size\": \"4096M\"\n",
    "}\n"
   ]
  },
  {
   "cell_type": "code",
   "execution_count": 4,
   "id": "51957f1f",
   "metadata": {},
   "outputs": [
    {
     "name": "stdout",
     "output_type": "stream",
     "text": [
      "Stopping docker: [  OK  ]\r\n",
      "Starting docker:\t.[  OK  ]\r\n"
     ]
    },
    {
     "name": "stderr",
     "output_type": "stream",
     "text": [
      "mkdir: cannot create directory ‘/home/ec2-user/SageMaker/docker_disk’: File exists\n",
      "mv: ‘/var/lib/docker’ and ‘/home/ec2-user/SageMaker/docker_disk/docker’ are the same file\n",
      "ln: failed to create symbolic link ‘/var/lib/docker’: File exists\n"
     ]
    }
   ],
   "source": [
    "%%bash \n",
    "sudo service docker stop\n",
    "sudo cp daemon.json /etc/docker/\n",
    "mkdir ~/SageMaker/docker_disk\n",
    "sudo mv /var/lib/docker ~/SageMaker/docker_disk/\n",
    "sudo ln -s  ~/SageMaker/docker_disk/docker/ /var/lib/\n",
    "sudo service docker start"
   ]
  },
  {
   "cell_type": "code",
   "execution_count": null,
   "id": "15436728",
   "metadata": {},
   "outputs": [],
   "source": [
    "%%bash \n",
    "cd ~/SageMaker\n",
    "git clone https://github.com/aws-samples/amazon-textract-code-samples.git \n",
    "wget -O Mmdetection.zip https://tinyurl.com/yfp7z4n6\n",
    "wget -O icdar_table_cells_dataset.zip https://tinyurl.com/yftec3qv\n",
    "unzip Mmdetection.zip\n",
    "unzip icdar_table_cells_dataset.zip \n",
    "cp Mmdetection/new_chunk_cascade_mask_rcnn_hrnetv2p_w32_20e/epoch_36.pth CascadeTabNet/"
   ]
  },
  {
   "cell_type": "code",
   "execution_count": null,
   "id": "39e8c67b",
   "metadata": {},
   "outputs": [],
   "source": []
  },
  {
   "cell_type": "code",
   "execution_count": null,
   "id": "00c8fccb",
   "metadata": {},
   "outputs": [],
   "source": []
  }
 ],
 "metadata": {
  "kernelspec": {
   "display_name": "conda_python3",
   "language": "python",
   "name": "conda_python3"
  },
  "language_info": {
   "codemirror_mode": {
    "name": "ipython",
    "version": 3
   },
   "file_extension": ".py",
   "mimetype": "text/x-python",
   "name": "python",
   "nbconvert_exporter": "python",
   "pygments_lexer": "ipython3",
   "version": "3.6.13"
  }
 },
 "nbformat": 4,
 "nbformat_minor": 5
}
